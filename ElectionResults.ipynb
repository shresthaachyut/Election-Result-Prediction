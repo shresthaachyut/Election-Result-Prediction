{
 "cells": [
  {
   "cell_type": "markdown",
   "metadata": {},
   "source": [
    "# Description\n",
    "\n",
    "https://www.kaggle.com/danerbland/electionfinance\n",
    "\n",
    "# Data Source \n",
    "https://www.kaggle.com/danerbland/electionfinance/downloads/campaign-finance-versus-election-results.zip/1#CandidateSummaryAction1.csv"
   ]
  },
  {
   "cell_type": "markdown",
   "metadata": {},
   "source": [
    "# Questions we asked\n",
    " \n",
    "###### 1) Does election results depend on the expenditure made by candidates ?\n",
    "###### 2) If there is a relation, does that relation hold true in large and smaller states alike? Or do they behave differently?\n",
    "###### 3) If there is a relation, can we predict the election results based on this result ?"
   ]
  },
  {
   "cell_type": "markdown",
   "metadata": {},
   "source": [
    "# Key Findings\n",
    "#### 1) Highest spender in any electorate has very high chance of winning.\n",
    "#### 2) Difference between the percentage of winners with highest expenditure was not statistically significant between large and small states\n",
    "#### 3) It is possible to predict (with more than 90% accuracy) the result of election provided we know the expenditures made by each candidate"
   ]
  },
  {
   "cell_type": "markdown",
   "metadata": {},
   "source": [
    "# Steps Involved\n",
    "##### 1) Download data\n",
    "##### 2) Clean data\n",
    "##### 3) Analyze data and Plot Graphs\n",
    "##### 4) Perform statistical test\n",
    "##### 5) Logistic Regression for prediction"
   ]
  },
  {
   "cell_type": "code",
   "execution_count": 1,
   "metadata": {},
   "outputs": [],
   "source": [
    "# Import all the dependencies\n",
    "\n",
    "import pandas as pd\n",
    "import numpy as np\n",
    "import matplotlib.pyplot as plt\n",
    "import seaborn as sns\n",
    "from sklearn.model_selection import train_test_split\n",
    "from sklearn.linear_model import LogisticRegression\n",
    "from sklearn.metrics import classification_report\n",
    "import warnings\n",
    "import scipy.stats as stats\n",
    "\n",
    "%matplotlib inline"
   ]
  },
  {
   "cell_type": "code",
   "execution_count": 2,
   "metadata": {},
   "outputs": [],
   "source": [
    "# Suppress the warnings\n",
    "warnings.filterwarnings('ignore')"
   ]
  },
  {
   "cell_type": "code",
   "execution_count": 3,
   "metadata": {
    "scrolled": true
   },
   "outputs": [],
   "source": [
    "# Read the raw data file\n",
    "# Source: https://www.kaggle.com/danerbland/electionfinance/downloads/campaign-finance-versus-election-results.zip/1#CandidateSummaryAction1.csv\n",
    "candidateSummaryAction = pd.read_csv('Resources/CandidateSummaryAction.csv')"
   ]
  },
  {
   "cell_type": "markdown",
   "metadata": {},
   "source": [
    "# Clean the data set"
   ]
  },
  {
   "cell_type": "code",
   "execution_count": 4,
   "metadata": {},
   "outputs": [],
   "source": [
    "# Clean the currency amount and change it to numeric\n",
    "\n",
    "candidateSummaryAction['ind_ite_con'] = pd.to_numeric(candidateSummaryAction['ind_ite_con'].str.replace(\"$\",\"\").str.replace(\",\",\"\").str.replace(\"(\",\"-\").str.replace(\")\",\"\"))\n",
    "candidateSummaryAction['ind_uni_con'] = pd.to_numeric(candidateSummaryAction['ind_uni_con'].str.replace(\"$\",\"\").str.replace(\",\",\"\").str.replace(\"(\",\"-\").str.replace(\")\",\"\"))\n",
    "candidateSummaryAction['ind_con'] = pd.to_numeric(candidateSummaryAction['ind_con'].str.replace(\"$\",\"\").str.replace(\",\",\"\").str.replace(\"(\",\"-\").str.replace(\")\",\"\"))\n",
    "candidateSummaryAction['par_com_con'] = pd.to_numeric(candidateSummaryAction['par_com_con'].str.replace(\"$\",\"\").str.replace(\",\",\"\").str.replace(\"(\",\"-\").str.replace(\")\",\"\"))\n",
    "candidateSummaryAction['oth_com_con'] = pd.to_numeric(candidateSummaryAction['oth_com_con'].str.replace(\"$\",\"\").str.replace(\",\",\"\").str.replace(\"(\",\"-\").str.replace(\")\",\"\"))\n",
    "candidateSummaryAction['can_con'] = pd.to_numeric(candidateSummaryAction['can_con'].str.replace(\"$\",\"\").str.replace(\",\",\"\").str.replace(\"(\",\"-\").str.replace(\")\",\"\"))\n",
    "candidateSummaryAction['tot_con'] = pd.to_numeric(candidateSummaryAction['tot_con'].str.replace(\"$\",\"\").str.replace(\",\",\"\").str.replace(\"(\",\"-\").str.replace(\")\",\"\"))\n",
    "candidateSummaryAction['tra_fro_oth_aut_com'] = pd.to_numeric(candidateSummaryAction['tra_fro_oth_aut_com'].str.replace(\"$\",\"\").str.replace(\",\",\"\").str.replace(\"(\",\"-\").str.replace(\")\",\"\"))\n",
    "candidateSummaryAction['can_loa'] = pd.to_numeric(candidateSummaryAction['can_loa'].str.replace(\"$\",\"\").str.replace(\",\",\"\").str.replace(\"(\",\"-\").str.replace(\")\",\"\"))\n",
    "candidateSummaryAction['oth_loa'] = pd.to_numeric(candidateSummaryAction['oth_loa'].str.replace(\"$\",\"\").str.replace(\",\",\"\").str.replace(\"(\",\"-\").str.replace(\")\",\"\"))\n",
    "candidateSummaryAction['tot_loa'] = pd.to_numeric(candidateSummaryAction['tot_loa'].str.replace(\"$\",\"\").str.replace(\",\",\"\").str.replace(\"(\",\"-\").str.replace(\")\",\"\"))\n",
    "candidateSummaryAction['off_to_ope_exp'] = pd.to_numeric(candidateSummaryAction['off_to_ope_exp'].str.replace(\"$\",\"\").str.replace(\",\",\"\").str.replace(\"(\",\"-\").str.replace(\")\",\"\"))\n",
    "candidateSummaryAction['off_to_fun'] = pd.to_numeric(candidateSummaryAction['off_to_fun'].str.replace(\"$\",\"\").str.replace(\",\",\"\").str.replace(\"(\",\"-\").str.replace(\")\",\"\"))\n",
    "candidateSummaryAction['off_to_leg_acc'] = pd.to_numeric(candidateSummaryAction['off_to_leg_acc'].str.replace(\"$\",\"\").str.replace(\",\",\"\").str.replace(\"(\",\"-\").str.replace(\")\",\"\"))\n",
    "candidateSummaryAction['oth_rec'] = pd.to_numeric(candidateSummaryAction['oth_rec'].str.replace(\"$\",\"\").str.replace(\",\",\"\").str.replace(\"(\",\"-\").str.replace(\")\",\"\"))\n",
    "candidateSummaryAction['tot_rec'] = pd.to_numeric(candidateSummaryAction['tot_rec'].str.replace(\"$\",\"\").str.replace(\",\",\"\").str.replace(\"(\",\"-\").str.replace(\")\",\"\"))\n",
    "candidateSummaryAction['ope_exp'] = pd.to_numeric(candidateSummaryAction['ope_exp'].str.replace(\"$\",\"\").str.replace(\",\",\"\").str.replace(\"(\",\"-\").str.replace(\")\",\"\"))\n",
    "candidateSummaryAction['exe_leg_acc_dis'] = pd.to_numeric(candidateSummaryAction['exe_leg_acc_dis'].str.replace(\"$\",\"\").str.replace(\",\",\"\").str.replace(\"(\",\"-\").str.replace(\")\",\"\"))\n",
    "candidateSummaryAction['tra_to_oth_aut_com'] = pd.to_numeric(candidateSummaryAction['tra_to_oth_aut_com'].str.replace(\"$\",\"\").str.replace(\",\",\"\").str.replace(\"(\",\"-\").str.replace(\")\",\"\"))\n",
    "candidateSummaryAction['can_loa_rep'] = pd.to_numeric(candidateSummaryAction['can_loa_rep'].str.replace(\"$\",\"\").str.replace(\",\",\"\").str.replace(\"(\",\"-\").str.replace(\")\",\"\"))\n",
    "candidateSummaryAction['tot_loa_rep'] = pd.to_numeric(candidateSummaryAction['tot_loa_rep'].str.replace(\"$\",\"\").str.replace(\",\",\"\").str.replace(\"(\",\"-\").str.replace(\")\",\"\"))\n",
    "candidateSummaryAction['ind_ref'] = pd.to_numeric(candidateSummaryAction['ind_ref'].str.replace(\"$\",\"\").str.replace(\",\",\"\").str.replace(\"(\",\"-\").str.replace(\")\",\"\"))\n",
    "candidateSummaryAction['par_com_ref'] = pd.to_numeric(candidateSummaryAction['par_com_ref'].str.replace(\"$\",\"\").str.replace(\",\",\"\").str.replace(\"(\",\"-\").str.replace(\")\",\"\"))\n",
    "candidateSummaryAction['oth_com_ref'] = pd.to_numeric(candidateSummaryAction['oth_com_ref'].str.replace(\"$\",\"\").str.replace(\",\",\"\").str.replace(\"(\",\"-\").str.replace(\")\",\"\"))\n",
    "candidateSummaryAction['tot_con_ref'] = pd.to_numeric(candidateSummaryAction['tot_con_ref'].str.replace(\"$\",\"\").str.replace(\",\",\"\").str.replace(\"(\",\"-\").str.replace(\")\",\"\"))\n",
    "candidateSummaryAction['oth_dis'] = pd.to_numeric(candidateSummaryAction['oth_dis'].str.replace(\"$\",\"\").str.replace(\",\",\"\").str.replace(\"(\",\"-\").str.replace(\")\",\"\"))\n",
    "candidateSummaryAction['tot_dis'] = pd.to_numeric(candidateSummaryAction['tot_dis'].str.replace(\"$\",\"\").str.replace(\",\",\"\").str.replace(\"(\",\"-\").str.replace(\")\",\"\"))\n",
    "candidateSummaryAction['cas_on_han_beg_of_per'] = pd.to_numeric(candidateSummaryAction['cas_on_han_beg_of_per'].str.replace(\"$\",\"\").str.replace(\",\",\"\").str.replace(\"(\",\"-\").str.replace(\")\",\"\"))\n",
    "candidateSummaryAction['cas_on_han_clo_of_per'] = pd.to_numeric(candidateSummaryAction['cas_on_han_clo_of_per'].str.replace(\"$\",\"\").str.replace(\",\",\"\").str.replace(\"(\",\"-\").str.replace(\")\",\"\"))\n",
    "candidateSummaryAction['net_con'] = pd.to_numeric(candidateSummaryAction['net_con'].str.replace(\"$\",\"\").str.replace(\",\",\"\").str.replace(\"(\",\"-\").str.replace(\")\",\"\"))\n",
    "candidateSummaryAction['net_ope_exp'] = pd.to_numeric(candidateSummaryAction['net_ope_exp'].str.replace(\"$\",\"\").str.replace(\",\",\"\").str.replace(\"(\",\"-\").str.replace(\")\",\"\"))\n",
    "candidateSummaryAction['deb_owe_by_com'] = pd.to_numeric(candidateSummaryAction['deb_owe_by_com'].str.replace(\"$\",\"\").str.replace(\",\",\"\").str.replace(\"(\",\"-\").str.replace(\")\",\"\"))\n",
    "candidateSummaryAction['deb_owe_to_com'] = pd.to_numeric(candidateSummaryAction['deb_owe_to_com'].str.replace(\"$\",\"\").str.replace(\",\",\"\").str.replace(\"(\",\"-\").str.replace(\")\",\"\"))\n"
   ]
  },
  {
   "cell_type": "code",
   "execution_count": 5,
   "metadata": {},
   "outputs": [],
   "source": [
    "# Fill the blank numeric values with zero\n",
    "\n",
    "candidateSummaryAction['ind_ite_con'].fillna(0, inplace = True)\n",
    "candidateSummaryAction['ind_uni_con'].fillna(0, inplace = True)\n",
    "candidateSummaryAction['ind_con'].fillna(0, inplace = True)\n",
    "candidateSummaryAction['par_com_con'].fillna(0, inplace = True)\n",
    "candidateSummaryAction['oth_com_con'].fillna(0, inplace = True)\n",
    "candidateSummaryAction['can_con'].fillna(0, inplace = True)\n",
    "candidateSummaryAction['tot_con'].fillna(0, inplace = True)\n",
    "candidateSummaryAction['tra_fro_oth_aut_com'].fillna(0, inplace = True)\n",
    "candidateSummaryAction['can_loa'].fillna(0, inplace = True)\n",
    "candidateSummaryAction['oth_loa'].fillna(0, inplace = True)\n",
    "candidateSummaryAction['tot_loa'].fillna(0, inplace = True)\n",
    "candidateSummaryAction['off_to_ope_exp'].fillna(0, inplace = True)\n",
    "candidateSummaryAction['off_to_fun'].fillna(0, inplace = True)\n",
    "candidateSummaryAction['off_to_leg_acc'].fillna(0, inplace = True)\n",
    "candidateSummaryAction['oth_rec'].fillna(0, inplace = True)\n",
    "candidateSummaryAction['tot_rec'].fillna(0, inplace = True)\n",
    "candidateSummaryAction['ope_exp'].fillna(0, inplace = True)\n",
    "candidateSummaryAction['exe_leg_acc_dis'].fillna(0, inplace = True)\n",
    "candidateSummaryAction['tra_to_oth_aut_com'].fillna(0, inplace = True)\n",
    "candidateSummaryAction['can_loa_rep'].fillna(0, inplace = True)\n",
    "candidateSummaryAction['tot_loa_rep'].fillna(0, inplace = True)\n",
    "candidateSummaryAction['ind_ref'].fillna(0, inplace = True)\n",
    "candidateSummaryAction['par_com_ref'].fillna(0, inplace = True)\n",
    "candidateSummaryAction['oth_com_ref'].fillna(0, inplace = True)\n",
    "candidateSummaryAction['tot_con_ref'].fillna(0, inplace = True)\n",
    "candidateSummaryAction['oth_dis'].fillna(0, inplace = True)\n",
    "candidateSummaryAction['tot_dis'].fillna(0, inplace = True)\n",
    "candidateSummaryAction['cas_on_han_beg_of_per'].fillna(0, inplace = True)\n",
    "candidateSummaryAction['cas_on_han_clo_of_per'].fillna(0, inplace = True)\n",
    "candidateSummaryAction['net_con'].fillna(0, inplace = True)\n",
    "candidateSummaryAction['ind_uni_con'].fillna(0, inplace = True)\n",
    "candidateSummaryAction['net_ope_exp'].fillna(0, inplace = True)\n",
    "candidateSummaryAction['deb_owe_by_com'].fillna(0, inplace = True)\n",
    "candidateSummaryAction['deb_owe_to_com'].fillna(0, inplace = True)"
   ]
  },
  {
   "cell_type": "code",
   "execution_count": 6,
   "metadata": {},
   "outputs": [
    {
     "data": {
      "text/html": [
       "<div>\n",
       "<style scoped>\n",
       "    .dataframe tbody tr th:only-of-type {\n",
       "        vertical-align: middle;\n",
       "    }\n",
       "\n",
       "    .dataframe tbody tr th {\n",
       "        vertical-align: top;\n",
       "    }\n",
       "\n",
       "    .dataframe thead th {\n",
       "        text-align: right;\n",
       "    }\n",
       "</style>\n",
       "<table border=\"1\" class=\"dataframe\">\n",
       "  <thead>\n",
       "    <tr style=\"text-align: right;\">\n",
       "      <th></th>\n",
       "      <th>Candidate Id</th>\n",
       "      <th>Candidate Name</th>\n",
       "      <th>Candidate Office</th>\n",
       "      <th>Candidate Office State</th>\n",
       "      <th>Candidate Office District</th>\n",
       "      <th>Candidate Party Affiliation</th>\n",
       "      <th>Candidate Incumbent Challenger Open Seat</th>\n",
       "      <th>Candidate Street 1</th>\n",
       "      <th>Candidate Street 2</th>\n",
       "      <th>Candidate City</th>\n",
       "      <th>...</th>\n",
       "      <th>Cash on Hand Close of Period</th>\n",
       "      <th>Net Contribution</th>\n",
       "      <th>Net Operating Expenditure</th>\n",
       "      <th>Debt Owed by Committee</th>\n",
       "      <th>Debt Owed to Committee</th>\n",
       "      <th>Coverage Start Date</th>\n",
       "      <th>Coverage End Date</th>\n",
       "      <th>Winner</th>\n",
       "      <th>Votes</th>\n",
       "      <th>Winner_binary</th>\n",
       "    </tr>\n",
       "  </thead>\n",
       "  <tbody>\n",
       "    <tr>\n",
       "      <th>0</th>\n",
       "      <td>H2GA12121</td>\n",
       "      <td>ALLEN, RICHARD W</td>\n",
       "      <td>H</td>\n",
       "      <td>GA</td>\n",
       "      <td>12.0</td>\n",
       "      <td>REP</td>\n",
       "      <td>INCUMBENT</td>\n",
       "      <td>2237 PICKENS RD</td>\n",
       "      <td>NaN</td>\n",
       "      <td>AUGUSTA</td>\n",
       "      <td>...</td>\n",
       "      <td>175613.35</td>\n",
       "      <td>1074949.50</td>\n",
       "      <td>907156.21</td>\n",
       "      <td>1125000.0</td>\n",
       "      <td>0.0</td>\n",
       "      <td>1/1/2015</td>\n",
       "      <td>10/19/2016</td>\n",
       "      <td>Y</td>\n",
       "      <td>158708.0</td>\n",
       "      <td>1</td>\n",
       "    </tr>\n",
       "    <tr>\n",
       "      <th>1</th>\n",
       "      <td>H6PA02171</td>\n",
       "      <td>EVANS, DWIGHT</td>\n",
       "      <td>H</td>\n",
       "      <td>PA</td>\n",
       "      <td>2.0</td>\n",
       "      <td>DEM</td>\n",
       "      <td>CHALLENGER</td>\n",
       "      <td>PO BOX 6578</td>\n",
       "      <td>NaN</td>\n",
       "      <td>PHILADELPHIA</td>\n",
       "      <td>...</td>\n",
       "      <td>105687.23</td>\n",
       "      <td>1406719.06</td>\n",
       "      <td>1298831.83</td>\n",
       "      <td>0.0</td>\n",
       "      <td>0.0</td>\n",
       "      <td>11/2/2015</td>\n",
       "      <td>10/19/2016</td>\n",
       "      <td>Y</td>\n",
       "      <td>310770.0</td>\n",
       "      <td>1</td>\n",
       "    </tr>\n",
       "  </tbody>\n",
       "</table>\n",
       "<p>2 rows × 52 columns</p>\n",
       "</div>"
      ],
      "text/plain": [
       "  Candidate Id    Candidate Name Candidate Office Candidate Office State  \\\n",
       "0    H2GA12121  ALLEN, RICHARD W                H                     GA   \n",
       "1    H6PA02171     EVANS, DWIGHT                H                     PA   \n",
       "\n",
       "   Candidate Office District Candidate Party Affiliation  \\\n",
       "0                       12.0                         REP   \n",
       "1                        2.0                         DEM   \n",
       "\n",
       "  Candidate Incumbent Challenger Open Seat Candidate Street 1  \\\n",
       "0                                INCUMBENT    2237 PICKENS RD   \n",
       "1                               CHALLENGER        PO BOX 6578   \n",
       "\n",
       "  Candidate Street 2 Candidate City  ... Cash on Hand Close of Period  \\\n",
       "0                NaN        AUGUSTA  ...                    175613.35   \n",
       "1                NaN   PHILADELPHIA  ...                    105687.23   \n",
       "\n",
       "   Net Contribution  Net Operating Expenditure  Debt Owed by Committee  \\\n",
       "0        1074949.50                  907156.21               1125000.0   \n",
       "1        1406719.06                 1298831.83                     0.0   \n",
       "\n",
       "   Debt Owed to Committee  Coverage Start Date  Coverage End Date  Winner  \\\n",
       "0                     0.0             1/1/2015         10/19/2016       Y   \n",
       "1                     0.0            11/2/2015         10/19/2016       Y   \n",
       "\n",
       "      Votes  Winner_binary  \n",
       "0  158708.0              1  \n",
       "1  310770.0              1  \n",
       "\n",
       "[2 rows x 52 columns]"
      ]
     },
     "execution_count": 6,
     "metadata": {},
     "output_type": "execute_result"
    }
   ],
   "source": [
    "# Rename the data columns\n",
    "\n",
    "candidateSummaryAction.rename(columns = {'can_id':'Candidate Id',\n",
    "                                         'can_nam':'Candidate Name',\n",
    "                                         'can_off':'Candidate Office',\n",
    "                                         'can_off_sta':'Candidate Office State',\n",
    "                                         'can_off_dis':'Candidate Office District',\n",
    "                                         'can_par_aff':'Candidate Party Affiliation',\n",
    "                                         'can_inc_cha_ope_sea':'Candidate Incumbent Challenger Open Seat',\n",
    "                                         'can_str1':'Candidate Street 1',\n",
    "                                         'can_str2':'Candidate Street 2',\n",
    "                                         'can_cit':'Candidate City',\n",
    "                                         'can_sta':'Candidate State',\n",
    "                                         'can_zip':'Candidate Zip',\n",
    "                                         'ind_ite_con':'Individual Itemized Contribution',\n",
    "                                         'ind_uni_con':'Individual Unitemized Contribution',\n",
    "                                         'ind_con':'Individual Contribution',\n",
    "                                         'par_com_con':'Party Committee Contribution',\n",
    "                                         'oth_com_con':'Other Committee Contribution',\n",
    "                                         'can_con':'Candidate Contribution',\n",
    "                                         'tot_con':'Total Contribution',\n",
    "                                         'tra_fro_oth_aut_com':'Transfer from other Authorized Committee',\n",
    "                                         'can_loa':'Candidate Loan',\n",
    "                                         'oth_loa':'Other Loan',\n",
    "                                         'tot_loa':'Total Loan',\n",
    "                                         'off_to_ope_exp':'Offsets to Operating Expenditure',\n",
    "                                         'off_to_fun':'Offsets to Fundraising',\n",
    "                                         'off_to_leg_acc':'Offsets to Legal Accounting',\n",
    "                                         'oth_rec':'Other Receipts',\n",
    "                                         'tot_rec':'Total Receipts',\n",
    "                                         'ope_exp':'Operating Expenditure',\n",
    "                                         'exe_leg_acc_dis':'Exempt Legal Accounting Disbursement',\n",
    "                                         'fun_dis':'Fundraising Disbursement',\n",
    "                                         'tra_to_oth_aut_com':'Transfer to Other Authorized Committee',\n",
    "                                         'can_loa_rep':'Candidate Loan Repayment',\n",
    "                                         'oth_loa_rep':'Other Loan Repayment',\n",
    "                                         'tot_loa_rep':'Total Loan Repayment',\n",
    "                                         'ind_ref':'Individual Refund',\n",
    "                                         'par_com_ref':'Party Committee Refund',\n",
    "                                         'oth_com_ref':'Other Committee Refund',\n",
    "                                         'tot_con_ref':'Total Contribution Refund',\n",
    "                                         'oth_dis':'Other Disbursement',\n",
    "                                         'tot_dis':'Total Disbursement',\n",
    "                                         'cas_on_han_beg_of_per':'Cash on Hand Beginning of Period',\n",
    "                                         'cas_on_han_clo_of_per':'Cash on Hand Close of Period',\n",
    "                                         'net_con':'Net Contribution',\n",
    "                                         'net_ope_exp':'Net Operating Expenditure',\n",
    "                                         'deb_owe_by_com':'Debt Owed by Committee',\n",
    "                                         'deb_owe_to_com':'Debt Owed to Committee',\n",
    "                                         'cov_sta_dat':'Coverage Start Date',\n",
    "                                         'cov_end_dat':'Coverage End Date',\n",
    "                                         'winner':'Winner',\n",
    "                                         'votes':'Votes'\n",
    "    \n",
    "},inplace = True)\n",
    "\n",
    "# Create a new field Winner_binary which is either 1 or 0\n",
    "candidateSummaryAction['Winner_binary'] = np.where(candidateSummaryAction['Winner']=='Y',1,0)\n",
    "candidateSummaryAction.head(2)\n"
   ]
  },
  {
   "cell_type": "code",
   "execution_count": 7,
   "metadata": {},
   "outputs": [
    {
     "data": {
      "text/html": [
       "<div>\n",
       "<style scoped>\n",
       "    .dataframe tbody tr th:only-of-type {\n",
       "        vertical-align: middle;\n",
       "    }\n",
       "\n",
       "    .dataframe tbody tr th {\n",
       "        vertical-align: top;\n",
       "    }\n",
       "\n",
       "    .dataframe thead th {\n",
       "        text-align: right;\n",
       "    }\n",
       "</style>\n",
       "<table border=\"1\" class=\"dataframe\">\n",
       "  <thead>\n",
       "    <tr style=\"text-align: right;\">\n",
       "      <th></th>\n",
       "      <th>Candidate Id</th>\n",
       "      <th>Candidate Name</th>\n",
       "      <th>Candidate Office</th>\n",
       "      <th>Candidate Office State</th>\n",
       "      <th>Candidate Office District</th>\n",
       "      <th>Candidate Party Affiliation</th>\n",
       "      <th>Candidate Incumbent Challenger Open Seat</th>\n",
       "      <th>Net Contribution</th>\n",
       "      <th>Net Operating Expenditure</th>\n",
       "      <th>Winner_binary</th>\n",
       "      <th>Cash on Hand Beginning of Period</th>\n",
       "      <th>Cash on Hand Close of Period</th>\n",
       "      <th>Individual Itemized Contribution</th>\n",
       "      <th>Individual Unitemized Contribution</th>\n",
       "      <th>Individual Contribution</th>\n",
       "      <th>Party Committee Contribution</th>\n",
       "    </tr>\n",
       "  </thead>\n",
       "  <tbody>\n",
       "    <tr>\n",
       "      <th>0</th>\n",
       "      <td>H2GA12121</td>\n",
       "      <td>ALLEN, RICHARD W</td>\n",
       "      <td>H</td>\n",
       "      <td>GA</td>\n",
       "      <td>12.0</td>\n",
       "      <td>REP</td>\n",
       "      <td>INCUMBENT</td>\n",
       "      <td>1074949.50</td>\n",
       "      <td>907156.21</td>\n",
       "      <td>1</td>\n",
       "      <td>60109.57</td>\n",
       "      <td>175613.35</td>\n",
       "      <td>554305.00</td>\n",
       "      <td>46969.50</td>\n",
       "      <td>601274.50</td>\n",
       "      <td>0.0</td>\n",
       "    </tr>\n",
       "    <tr>\n",
       "      <th>1</th>\n",
       "      <td>H6PA02171</td>\n",
       "      <td>EVANS, DWIGHT</td>\n",
       "      <td>H</td>\n",
       "      <td>PA</td>\n",
       "      <td>2.0</td>\n",
       "      <td>DEM</td>\n",
       "      <td>CHALLENGER</td>\n",
       "      <td>1406719.06</td>\n",
       "      <td>1298831.83</td>\n",
       "      <td>1</td>\n",
       "      <td>0.00</td>\n",
       "      <td>105687.23</td>\n",
       "      <td>1042280.38</td>\n",
       "      <td>72430.64</td>\n",
       "      <td>1114711.02</td>\n",
       "      <td>0.0</td>\n",
       "    </tr>\n",
       "  </tbody>\n",
       "</table>\n",
       "</div>"
      ],
      "text/plain": [
       "  Candidate Id    Candidate Name Candidate Office Candidate Office State  \\\n",
       "0    H2GA12121  ALLEN, RICHARD W                H                     GA   \n",
       "1    H6PA02171     EVANS, DWIGHT                H                     PA   \n",
       "\n",
       "   Candidate Office District Candidate Party Affiliation  \\\n",
       "0                       12.0                         REP   \n",
       "1                        2.0                         DEM   \n",
       "\n",
       "  Candidate Incumbent Challenger Open Seat  Net Contribution  \\\n",
       "0                                INCUMBENT        1074949.50   \n",
       "1                               CHALLENGER        1406719.06   \n",
       "\n",
       "   Net Operating Expenditure  Winner_binary  Cash on Hand Beginning of Period  \\\n",
       "0                  907156.21              1                          60109.57   \n",
       "1                 1298831.83              1                              0.00   \n",
       "\n",
       "   Cash on Hand Close of Period  Individual Itemized Contribution  \\\n",
       "0                     175613.35                         554305.00   \n",
       "1                     105687.23                        1042280.38   \n",
       "\n",
       "   Individual Unitemized Contribution  Individual Contribution  \\\n",
       "0                            46969.50                601274.50   \n",
       "1                            72430.64               1114711.02   \n",
       "\n",
       "   Party Committee Contribution  \n",
       "0                           0.0  \n",
       "1                           0.0  "
      ]
     },
     "execution_count": 7,
     "metadata": {},
     "output_type": "execute_result"
    }
   ],
   "source": [
    "# Subset the dataset to select interested columns\n",
    "candidateSummary = candidateSummaryAction[['Candidate Id','Candidate Name', 'Candidate Office',\n",
    "       'Candidate Office State', 'Candidate Office District','Candidate Party Affiliation',\n",
    "       'Candidate Incumbent Challenger Open Seat','Net Contribution', 'Net Operating Expenditure',\n",
    "       'Winner_binary','Cash on Hand Beginning of Period','Cash on Hand Close of Period','Individual Itemized Contribution',\n",
    "        'Individual Unitemized Contribution','Individual Contribution','Party Committee Contribution']]\n",
    "candidateSummary.head(2)"
   ]
  },
  {
   "cell_type": "markdown",
   "metadata": {},
   "source": [
    "# Separate the study for three different types of Election - 'House of Representatives', 'Senate' and 'President'"
   ]
  },
  {
   "cell_type": "code",
   "execution_count": 8,
   "metadata": {},
   "outputs": [],
   "source": [
    "# Split the dataset into House, Senate and Presidential elections\n",
    "\n",
    "candidateHouse = candidateSummary[candidateSummary['Candidate Office']=='H']\n",
    "candidateSenate = candidateSummary[candidateSummary['Candidate Office']=='S']\n",
    "candidatePresident = candidateSummary[candidateSummary['Candidate Office']=='P']"
   ]
  },
  {
   "cell_type": "markdown",
   "metadata": {},
   "source": [
    "# Analysis on the Election for House of Representatives"
   ]
  },
  {
   "cell_type": "markdown",
   "metadata": {},
   "source": [
    "##### 1st Hypothesis is election results will be influenced by the amount of expenditures one makes\n",
    "#####  Another thing to consider is that whether candidates getting large amount of unitemized contribution end up winning. Assumption is popular candidates will receive more unitemized contributions\n",
    "\n",
    "#####  Each electorate will require different amount of expenditure. Ex: In smaller states with lower population, spending small amount of money may win you an election while in larger states with higher population, more expenditure would be required\n",
    "#####  Thus a ranking order will have to be created for each electorate"
   ]
  },
  {
   "cell_type": "code",
   "execution_count": null,
   "metadata": {},
   "outputs": [],
   "source": [
    "# Create a field to uniquely identify an Electorate. Combination of State and District\n",
    "candidateHouse['Electorate'] = candidateHouse['Candidate Office State'] + '-' + candidateHouse['Candidate Office District'].astype(str)\n",
    "\n",
    "# Take only the cases where 'Net Operating Expenditure' is greater than 0 so that it does not impact the ranking\n",
    "candidateHouse = candidateHouse[candidateSummary['Net Operating Expenditure'] > 0]"
   ]
  },
  {
   "cell_type": "code",
   "execution_count": null,
   "metadata": {},
   "outputs": [],
   "source": [
    "# Get the ranks of candidates by netExpenditure, UnItemizedContribution and ItemizedContribution\n",
    "candidateHouse['rank_netExpenditure'] = candidateHouse.groupby(['Candidate Office State','Candidate Office District'])['Net Operating Expenditure'].rank(ascending = False)\n",
    "candidateHouse['rank_UnItemizedContribution'] = candidateHouse.groupby(['Candidate Office State','Candidate Office District'])['Individual Unitemized Contribution'].rank(ascending = False)\n",
    "candidateHouse['rank_ItemizedContribution'] = candidateHouse.groupby(['Candidate Office State','Candidate Office District'])['Individual Itemized Contribution'].rank(ascending = False)\n",
    "candidateHouse['rank_IndividualContribution'] = candidateHouse.groupby(['Candidate Office State','Candidate Office District'])['Individual Contribution'].rank(ascending = False)\n",
    "candidateHouse['rank_PartyContribution'] = candidateHouse.groupby(['Candidate Office State','Candidate Office District'])['Party Committee Contribution'].rank(ascending = False)"
   ]
  },
  {
   "cell_type": "code",
   "execution_count": null,
   "metadata": {},
   "outputs": [],
   "source": [
    "# Take only the cases where rank could be created\n",
    "candidateHouse = candidateHouse.loc[candidateHouse['rank_netExpenditure'].isnull()==False,:]\n",
    "candidateHouse.sort_values(['Candidate Office State','Candidate Office District','rank_netExpenditure'],inplace = True)\n"
   ]
  },
  {
   "cell_type": "markdown",
   "metadata": {},
   "source": [
    "# Analyze data and plot the graphs"
   ]
  },
  {
   "cell_type": "markdown",
   "metadata": {},
   "source": [
    "#### Winning vs. Being highest spender"
   ]
  },
  {
   "cell_type": "code",
   "execution_count": null,
   "metadata": {},
   "outputs": [
    {
     "data": {
      "image/png": "[encoded data removed]",
      "text/plain": [
       "<Figure size 432x288 with 1 Axes>"
      ]
     },
     "metadata": {
      "needs_background": "light"
     },
     "output_type": "display_data"
    }
   ],
   "source": [
    "plt.scatter(candidateHouse['rank_netExpenditure'], candidateHouse['Winner_binary'],color='red')\n",
    "plt.title('Rank by Net Expenditure vs Election Result')\n",
    "plt.xlabel('Rank by Net Expenditure')\n",
    "plt.ylabel('Election Result  1=Won, 0=Lost')\n",
    "plt.savefig('ResultImages/001_Expenditure Vs ElectionResult.png')\n",
    "plt.show()\n"
   ]
  },
  {
   "cell_type": "code",
   "execution_count": null,
   "metadata": {},
   "outputs": [
    {
     "data": {
      "image/png": "[encoded data removed]",
      "text/plain": [
       "<Figure size 432x288 with 1 Axes>"
      ]
     },
     "metadata": {
      "needs_background": "light"
     },
     "output_type": "display_data"
    }
   ],
   "source": [
    "sns.regplot(x= candidateHouse['rank_netExpenditure'], y = candidateHouse['Winner_binary'], data = candidateHouse, logistic=True, color = 'R')\n",
    "plt.title('Rank by Net Expenditure vs Election Result Logit')\n",
    "plt.xlabel('Rank by Net Expenditure')\n",
    "plt.ylabel('Election Result  1=Won, 0=Lost')\n",
    "plt.savefig('ResultImages/002_Expenditure Vs ElectionResult_logit.png')"
   ]
  },
  {
   "cell_type": "markdown",
   "metadata": {},
   "source": [
    "##### Notice the peakedness of the graph. Candidates who are ranked 1 in net expenditure in their respective electorates end up winning the election"
   ]
  },
  {
   "cell_type": "code",
   "execution_count": null,
   "metadata": {},
   "outputs": [
    {
     "data": {
      "image/png": "[encoded data removed]",
      "text/plain": [
       "<Figure size 432x432 with 3 Axes>"
      ]
     },
     "metadata": {
      "needs_background": "light"
     },
     "output_type": "display_data"
    }
   ],
   "source": [
    "sns.jointplot(x= candidateHouse['rank_netExpenditure'], y = candidateHouse['Winner_binary'], data = candidateHouse, kind = 'kde', color = 'r')\n",
    "plt.savefig('ResultImages/003_Expenditure Vs ElectionResult_KDE.png')\n",
    "plt.show()"
   ]
  },
  {
   "cell_type": "code",
   "execution_count": null,
   "metadata": {},
   "outputs": [
    {
     "data": {
      "text/html": [
       "<div>\n",
       "<style scoped>\n",
       "    .dataframe tbody tr th:only-of-type {\n",
       "        vertical-align: middle;\n",
       "    }\n",
       "\n",
       "    .dataframe tbody tr th {\n",
       "        vertical-align: top;\n",
       "    }\n",
       "\n",
       "    .dataframe thead th {\n",
       "        text-align: right;\n",
       "    }\n",
       "</style>\n",
       "<table border=\"1\" class=\"dataframe\">\n",
       "  <thead>\n",
       "    <tr style=\"text-align: right;\">\n",
       "      <th></th>\n",
       "      <th>sum</th>\n",
       "    </tr>\n",
       "    <tr>\n",
       "      <th>rank_netExpenditure</th>\n",
       "      <th></th>\n",
       "    </tr>\n",
       "  </thead>\n",
       "  <tbody>\n",
       "    <tr>\n",
       "      <th>1.0</th>\n",
       "      <td>401</td>\n",
       "    </tr>\n",
       "    <tr>\n",
       "      <th>2.0</th>\n",
       "      <td>29</td>\n",
       "    </tr>\n",
       "    <tr>\n",
       "      <th>2.5</th>\n",
       "      <td>0</td>\n",
       "    </tr>\n",
       "    <tr>\n",
       "      <th>3.0</th>\n",
       "      <td>3</td>\n",
       "    </tr>\n",
       "    <tr>\n",
       "      <th>3.5</th>\n",
       "      <td>0</td>\n",
       "    </tr>\n",
       "    <tr>\n",
       "      <th>4.0</th>\n",
       "      <td>2</td>\n",
       "    </tr>\n",
       "    <tr>\n",
       "      <th>4.5</th>\n",
       "      <td>0</td>\n",
       "    </tr>\n",
       "    <tr>\n",
       "      <th>5.0</th>\n",
       "      <td>0</td>\n",
       "    </tr>\n",
       "    <tr>\n",
       "      <th>6.0</th>\n",
       "      <td>0</td>\n",
       "    </tr>\n",
       "    <tr>\n",
       "      <th>7.0</th>\n",
       "      <td>0</td>\n",
       "    </tr>\n",
       "    <tr>\n",
       "      <th>8.0</th>\n",
       "      <td>0</td>\n",
       "    </tr>\n",
       "    <tr>\n",
       "      <th>9.0</th>\n",
       "      <td>0</td>\n",
       "    </tr>\n",
       "    <tr>\n",
       "      <th>10.0</th>\n",
       "      <td>0</td>\n",
       "    </tr>\n",
       "    <tr>\n",
       "      <th>11.0</th>\n",
       "      <td>0</td>\n",
       "    </tr>\n",
       "    <tr>\n",
       "      <th>12.0</th>\n",
       "      <td>0</td>\n",
       "    </tr>\n",
       "    <tr>\n",
       "      <th>13.0</th>\n",
       "      <td>0</td>\n",
       "    </tr>\n",
       "    <tr>\n",
       "      <th>14.0</th>\n",
       "      <td>0</td>\n",
       "    </tr>\n",
       "    <tr>\n",
       "      <th>15.0</th>\n",
       "      <td>0</td>\n",
       "    </tr>\n",
       "    <tr>\n",
       "      <th>16.0</th>\n",
       "      <td>0</td>\n",
       "    </tr>\n",
       "  </tbody>\n",
       "</table>\n",
       "</div>"
      ],
      "text/plain": [
       "                     sum\n",
       "rank_netExpenditure     \n",
       "1.0                  401\n",
       "2.0                   29\n",
       "2.5                    0\n",
       "3.0                    3\n",
       "3.5                    0\n",
       "4.0                    2\n",
       "4.5                    0\n",
       "5.0                    0\n",
       "6.0                    0\n",
       "7.0                    0\n",
       "8.0                    0\n",
       "9.0                    0\n",
       "10.0                   0\n",
       "11.0                   0\n",
       "12.0                   0\n",
       "13.0                   0\n",
       "14.0                   0\n",
       "15.0                   0\n",
       "16.0                   0"
      ]
     },
     "execution_count": 15,
     "metadata": {},
     "output_type": "execute_result"
    }
   ],
   "source": [
    "# Show the same thing above in the table\n",
    "rank_netExpenditure_Summary = candidateHouse.groupby(['rank_netExpenditure'])['Winner_binary'].agg(['sum'])\n",
    "rank_netExpenditure_Summary"
   ]
  },
  {
   "cell_type": "markdown",
   "metadata": {},
   "source": [
    "#### Winning vs. Party's backing"
   ]
  },
  {
   "cell_type": "code",
   "execution_count": null,
   "metadata": {},
   "outputs": [
    {
     "data": {
      "image/png": "[encoded data removed]",
      "text/plain": [
       "<Figure size 432x288 with 1 Axes>"
      ]
     },
     "metadata": {
      "needs_background": "light"
     },
     "output_type": "display_data"
    }
   ],
   "source": [
    "plt.scatter(candidateHouse['rank_PartyContribution'],candidateHouse['Winner_binary'],color='green')\n",
    "plt.title('Rank by Party Contribution vs Election Result')\n",
    "plt.xlabel('Rank by Party Contribution')\n",
    "plt.ylabel('Election Result  1=Won, 0=Lost')\n",
    "plt.savefig('ResultImages/004_Party Vs ElectionResult.png')\n",
    "plt.show()"
   ]
  },
  {
   "cell_type": "code",
   "execution_count": null,
   "metadata": {},
   "outputs": [
    {
     "data": {
      "image/png": "[encoded data removed]",
      "text/plain": [
       "<Figure size 432x288 with 1 Axes>"
      ]
     },
     "metadata": {
      "needs_background": "light"
     },
     "output_type": "display_data"
    }
   ],
   "source": [
    "sns.regplot(x= candidateHouse['rank_PartyContribution'], y = candidateHouse['Winner_binary'], data = candidateHouse, logistic=True, color = 'G')\n",
    "plt.title('Rank by Party Contribution vs Election Result')\n",
    "plt.xlabel('Rank by Party Contribution')\n",
    "plt.ylabel('Election Result  1=Won, 0=Lost')\n",
    "plt.savefig('ResultImages/005_Party Vs ElectionResult_logit.png')\n",
    "plt.show()"
   ]
  },
  {
   "cell_type": "markdown",
   "metadata": {},
   "source": [
    "#####  Notice the peakedness of the graph. Candidates who are ranked 1 in Party Contribution does not necessarily end up winning the election\n",
    "\n",
    "#####  This may mean the party pumps in money where the candiate is not really the first choice of people"
   ]
  },
  {
   "cell_type": "code",
   "execution_count": null,
   "metadata": {},
   "outputs": [
    {
     "data": {
      "image/png": "[encoded data removed]",
      "text/plain": [
       "<Figure size 432x432 with 3 Axes>"
      ]
     },
     "metadata": {
      "needs_background": "light"
     },
     "output_type": "display_data"
    }
   ],
   "source": [
    "sns.jointplot(x= candidateHouse['rank_PartyContribution'], y = candidateHouse['Winner_binary'], data = candidateHouse, kind = 'kde', color = 'G')\n",
    "plt.savefig('ResultImages/006_Party Vs ElectionResult_KDE.png')\n",
    "plt.show()"
   ]
  },
  {
   "cell_type": "code",
   "execution_count": null,
   "metadata": {},
   "outputs": [
    {
     "data": {
      "text/html": [
       "<div>\n",
       "<style scoped>\n",
       "    .dataframe tbody tr th:only-of-type {\n",
       "        vertical-align: middle;\n",
       "    }\n",
       "\n",
       "    .dataframe tbody tr th {\n",
       "        vertical-align: top;\n",
       "    }\n",
       "\n",
       "    .dataframe thead th {\n",
       "        text-align: right;\n",
       "    }\n",
       "</style>\n",
       "<table border=\"1\" class=\"dataframe\">\n",
       "  <thead>\n",
       "    <tr style=\"text-align: right;\">\n",
       "      <th></th>\n",
       "      <th>sum</th>\n",
       "    </tr>\n",
       "    <tr>\n",
       "      <th>rank_PartyContribution</th>\n",
       "      <th></th>\n",
       "    </tr>\n",
       "  </thead>\n",
       "  <tbody>\n",
       "    <tr>\n",
       "      <th>1.0</th>\n",
       "      <td>163</td>\n",
       "    </tr>\n",
       "    <tr>\n",
       "      <th>1.5</th>\n",
       "      <td>66</td>\n",
       "    </tr>\n",
       "    <tr>\n",
       "      <th>2.0</th>\n",
       "      <td>100</td>\n",
       "    </tr>\n",
       "    <tr>\n",
       "      <th>2.5</th>\n",
       "      <td>47</td>\n",
       "    </tr>\n",
       "    <tr>\n",
       "      <th>3.0</th>\n",
       "      <td>25</td>\n",
       "    </tr>\n",
       "    <tr>\n",
       "      <th>3.5</th>\n",
       "      <td>11</td>\n",
       "    </tr>\n",
       "    <tr>\n",
       "      <th>4.0</th>\n",
       "      <td>9</td>\n",
       "    </tr>\n",
       "    <tr>\n",
       "      <th>4.5</th>\n",
       "      <td>4</td>\n",
       "    </tr>\n",
       "    <tr>\n",
       "      <th>5.0</th>\n",
       "      <td>2</td>\n",
       "    </tr>\n",
       "    <tr>\n",
       "      <th>5.5</th>\n",
       "      <td>2</td>\n",
       "    </tr>\n",
       "    <tr>\n",
       "      <th>6.0</th>\n",
       "      <td>1</td>\n",
       "    </tr>\n",
       "    <tr>\n",
       "      <th>6.5</th>\n",
       "      <td>0</td>\n",
       "    </tr>\n",
       "    <tr>\n",
       "      <th>7.0</th>\n",
       "      <td>3</td>\n",
       "    </tr>\n",
       "    <tr>\n",
       "      <th>8.0</th>\n",
       "      <td>2</td>\n",
       "    </tr>\n",
       "    <tr>\n",
       "      <th>9.0</th>\n",
       "      <td>0</td>\n",
       "    </tr>\n",
       "  </tbody>\n",
       "</table>\n",
       "</div>"
      ],
      "text/plain": [
       "                        sum\n",
       "rank_PartyContribution     \n",
       "1.0                     163\n",
       "1.5                      66\n",
       "2.0                     100\n",
       "2.5                      47\n",
       "3.0                      25\n",
       "3.5                      11\n",
       "4.0                       9\n",
       "4.5                       4\n",
       "5.0                       2\n",
       "5.5                       2\n",
       "6.0                       1\n",
       "6.5                       0\n",
       "7.0                       3\n",
       "8.0                       2\n",
       "9.0                       0"
      ]
     },
     "execution_count": 19,
     "metadata": {},
     "output_type": "execute_result"
    }
   ],
   "source": [
    "# Show the same thing above in the table\n",
    "rank_PartyContribution_Summary = candidateHouse.groupby(['rank_PartyContribution'])['Winner_binary'].agg(['sum'])\n",
    "rank_PartyContribution_Summary"
   ]
  },
  {
   "cell_type": "markdown",
   "metadata": {},
   "source": [
    "#### Winning vs. Individual Contributions"
   ]
  },
  {
   "cell_type": "code",
   "execution_count": null,
   "metadata": {},
   "outputs": [
    {
     "data": {
      "image/png": "[encoded data removed]",
      "text/plain": [
       "<Figure size 432x288 with 1 Axes>"
      ]
     },
     "metadata": {
      "needs_background": "light"
     },
     "output_type": "display_data"
    }
   ],
   "source": [
    "plt.scatter(candidateHouse['rank_IndividualContribution'],candidateHouse['Winner_binary'], color='B')\n",
    "plt.title('Rank by Individual Contributions vs Election Result')\n",
    "plt.xlabel('Rank by Individual Contributions')\n",
    "plt.ylabel('Election Result  1=Won, 0=Lost')\n",
    "plt.savefig('ResultImages/007_Individual Vs ElectionResult.png')\n",
    "plt.show()"
   ]
  },
  {
   "cell_type": "code",
   "execution_count": null,
   "metadata": {},
   "outputs": [],
   "source": [
    "sns.regplot(x= candidateHouse['rank_IndividualContribution'], y = candidateHouse['Winner_binary'], data = candidateHouse, logistic=True, color = 'B')\n",
    "plt.title('Rank by Individual Contributions vs Election Result')\n",
    "plt.xlabel('Rank by Individual Contributions')\n",
    "plt.ylabel('Election Result  1=Won, 0=Lost')\n",
    "plt.savefig('ResultImages/008_Individual Vs ElectionResult_logit.png')\n",
    "plt.show()"
   ]
  },
  {
   "cell_type": "markdown",
   "metadata": {},
   "source": [
    "#####  Notice the peakedness of the graph. Candidates who are ranked 1 in Individual Contribution in their respective electorates end up winning the election\n",
    "\n",
    "##### Candidates who are popular amongst the mass (so more individual contributions) have higher changes of winning"
   ]
  },
  {
   "cell_type": "code",
   "execution_count": null,
   "metadata": {},
   "outputs": [],
   "source": [
    "sns.jointplot(x= candidateHouse['rank_IndividualContribution'], y = candidateHouse['Winner_binary'], data = candidateHouse, kind = 'kde', color = 'B')\n",
    "plt.savefig('ResultImages/009_Individual Vs ElectionResult_KDE.png')\n",
    "plt.show()"
   ]
  },
  {
   "cell_type": "code",
   "execution_count": null,
   "metadata": {},
   "outputs": [],
   "source": [
    "# Show the same thing above in the table\n",
    "rank_IndividualContribution_Summary = candidateHouse.groupby(['rank_IndividualContribution'])['Winner_binary'].agg(['sum'])\n",
    "rank_IndividualContribution_Summary"
   ]
  },
  {
   "cell_type": "markdown",
   "metadata": {},
   "source": [
    "## OBSERVATIONS:\n",
    "#### 1.Net expenditure has high impact in determining the result\n",
    "#### 2. Individual contribution has high impact in determining the result\n",
    "#### 3. Party contributions doesn't seem to have high impact in determining the result"
   ]
  },
  {
   "cell_type": "markdown",
   "metadata": {},
   "source": [
    "# Study to see to if large states behave diffrently than small States"
   ]
  },
  {
   "cell_type": "code",
   "execution_count": null,
   "metadata": {},
   "outputs": [],
   "source": [
    "# Get unique number of electorates for each state\n",
    "summaryByState_1 = candidateHouse.groupby(['Candidate Office State'])['Candidate Office District'].agg({\"Num_of_Electorates\": lambda x: x.nunique()})\n",
    "\n",
    "# Subset only the electorates with highest Spenders\n",
    "summaryByState_temp = candidateHouse.loc[candidateHouse['rank_netExpenditure'] ==1]\n",
    "\n",
    "# Count the number of electorates won by highest spenders in each state\n",
    "summaryByState_2 = summaryByState_temp.groupby(['Candidate Office State'])['Winner_binary'].agg({\"Num_of_Rank_1_Winners\": np.sum})\n",
    "\n",
    "# Merge the two data set\n",
    "summaryByState = summaryByState_1.join(summaryByState_2)\n",
    "\n",
    "# Calculate the percentage of electorates won by highest spenders in each state\n",
    "summaryByState['Percent_Rank_1_Winners'] = round(summaryByState['Num_of_Rank_1_Winners']/summaryByState['Num_of_Electorates']*100,2)\n",
    "\n",
    "# Put a marker to identify large and small states\n",
    "summaryByState['Elec_Bucket'] = np.where(summaryByState['Num_of_Electorates'] >5,'Large','Small')\n",
    "\n",
    "summaryByState"
   ]
  },
  {
   "cell_type": "code",
   "execution_count": null,
   "metadata": {},
   "outputs": [],
   "source": [
    "# Take only the small states\n",
    "Small = summaryByState.loc[summaryByState['Elec_Bucket'] =='Small',:]\n",
    "# Take only the large states\n",
    "Large = Small = summaryByState.loc[summaryByState['Elec_Bucket'] =='Large',:]\n",
    "\n",
    "# Take 20 random small states\n",
    "small_random_sample = np.random.choice(Small['Percent_Rank_1_Winners'], 20)\n",
    "\n",
    "# Take 20 random large states\n",
    "large_random_sample = np.random.choice(Small['Percent_Rank_1_Winners'], 20)\n",
    "\n",
    "# perform F test to see if they are different\n",
    "stats.f_oneway(small_random_sample, large_random_sample)"
   ]
  },
  {
   "cell_type": "markdown",
   "metadata": {},
   "source": [
    "### Conclusion: p value greater than .05, implying they are not statistically different"
   ]
  },
  {
   "cell_type": "markdown",
   "metadata": {},
   "source": [
    "# Predicting the House Representative Election based on the net expenditure"
   ]
  },
  {
   "cell_type": "code",
   "execution_count": null,
   "metadata": {},
   "outputs": [],
   "source": [
    "rank = pd.get_dummies(candidateHouse['rank_netExpenditure'],prefix = 'rank_expenditure')\n",
    "rank.columns"
   ]
  },
  {
   "cell_type": "code",
   "execution_count": null,
   "metadata": {},
   "outputs": [],
   "source": [
    "cols_needed = ['Net Operating Expenditure',\n",
    "       'Winner_binary','Cash on Hand Beginning of Period','Cash on Hand Close of Period','Individual Itemized Contribution',\n",
    "                                          'Individual Unitemized Contribution','Individual Contribution']"
   ]
  },
  {
   "cell_type": "code",
   "execution_count": null,
   "metadata": {},
   "outputs": [],
   "source": [
    "data = candidateHouse[cols_needed].join(rank.iloc[:,:])\n",
    "data.head()"
   ]
  },
  {
   "cell_type": "markdown",
   "metadata": {},
   "source": [
    "# Logistic Regression"
   ]
  },
  {
   "cell_type": "markdown",
   "metadata": {},
   "source": [
    "### Some Basics of Logistic Regression\n",
    "###### https://www.datacamp.com/community/tutorials/understanding-logistic-regression-python"
   ]
  },
  {
   "cell_type": "code",
   "execution_count": null,
   "metadata": {},
   "outputs": [],
   "source": []
  },
  {
   "cell_type": "code",
   "execution_count": null,
   "metadata": {},
   "outputs": [],
   "source": [
    "X = data[['rank_expenditure_1.0', 'rank_expenditure_2.0', 'rank_expenditure_2.5',\n",
    "       'rank_expenditure_3.0', 'rank_expenditure_3.5', 'rank_expenditure_4.0',\n",
    "       'rank_expenditure_4.5', 'rank_expenditure_5.0', 'rank_expenditure_6.0',\n",
    "       'rank_expenditure_7.0', 'rank_expenditure_8.0', 'rank_expenditure_9.0',\n",
    "       'rank_expenditure_10.0', 'rank_expenditure_11.0',\n",
    "       'rank_expenditure_12.0', 'rank_expenditure_13.0',\n",
    "       'rank_expenditure_14.0', 'rank_expenditure_15.0']]\n",
    "\n",
    "y = data['Winner_binary']"
   ]
  },
  {
   "cell_type": "code",
   "execution_count": null,
   "metadata": {},
   "outputs": [],
   "source": [
    "#X_train, X_test, y_train, y_test = train_test_split(X,y,test_size = 0.3,random_state = 23)"
   ]
  },
  {
   "cell_type": "code",
   "execution_count": null,
   "metadata": {},
   "outputs": [],
   "source": [
    "X_train, X_test, y_train, y_test = train_test_split(X,y,test_size = 0.3)"
   ]
  },
  {
   "cell_type": "code",
   "execution_count": null,
   "metadata": {},
   "outputs": [],
   "source": [
    "X_test.head()"
   ]
  },
  {
   "cell_type": "code",
   "execution_count": null,
   "metadata": {},
   "outputs": [],
   "source": [
    "y_test.head()"
   ]
  },
  {
   "cell_type": "code",
   "execution_count": null,
   "metadata": {},
   "outputs": [],
   "source": [
    "model = LogisticRegression()"
   ]
  },
  {
   "cell_type": "code",
   "execution_count": null,
   "metadata": {},
   "outputs": [],
   "source": [
    "model.fit(X_train,y_train)"
   ]
  },
  {
   "cell_type": "code",
   "execution_count": null,
   "metadata": {},
   "outputs": [],
   "source": [
    "prediction = model.predict(X_test)\n",
    "prediction"
   ]
  },
  {
   "cell_type": "code",
   "execution_count": null,
   "metadata": {},
   "outputs": [],
   "source": [
    "print(classification_report(y_test,prediction))"
   ]
  },
  {
   "cell_type": "code",
   "execution_count": null,
   "metadata": {},
   "outputs": [],
   "source": [
    "model.score(X_test,y_test)"
   ]
  },
  {
   "cell_type": "code",
   "execution_count": null,
   "metadata": {},
   "outputs": [],
   "source": [
    "# Uses something called maximum likelihood\n",
    "# Gives a probability of being one or the other\n",
    "# Measures the likelihood of observing a looser/winner with a given rank\n",
    "\n",
    "model.predict_proba(X_test)"
   ]
  },
  {
   "cell_type": "markdown",
   "metadata": {},
   "source": [
    "https://scikit-learn.org/stable/modules/generated/sklearn.metrics.precision_recall_fscore_support.html#sklearn.metrics.precision_recall_fscore_support"
   ]
  },
  {
   "cell_type": "markdown",
   "metadata": {},
   "source": [
    "# Submitted by\n",
    "##### 1) Annie\n",
    "##### 2) Amanda\n",
    "##### 3) Kiran\n",
    "##### 4) Achyut"
   ]
  }
 ],
 "metadata": {
  "kernelspec": {
   "display_name": "Python 3",
   "language": "python",
   "name": "python3"
  },
  "language_info": {
   "codemirror_mode": {
    "name": "ipython",
    "version": 3
   },
   "file_extension": ".py",
   "mimetype": "text/x-python",
   "name": "python",
   "nbconvert_exporter": "python",
   "pygments_lexer": "ipython3",
   "version": "3.7.3"
  }
 },
 "nbformat": 4,
 "nbformat_minor": 2
}
