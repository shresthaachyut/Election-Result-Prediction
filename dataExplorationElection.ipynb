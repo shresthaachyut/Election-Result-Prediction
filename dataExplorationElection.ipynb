{
 "cells": [
  {
   "cell_type": "code",
   "execution_count": 11,
   "metadata": {},
   "outputs": [],
   "source": [
    "import pandas as pd\n",
    "import numpy as np\n",
    "import matplotlib.pyplot as plt\n",
    "from Annie_Amanda_DataCleaning import AnnieAmandaDataClean\n",
    "import seaborn as sns\n",
    "from sklearn.model_selection import train_test_split\n",
    "%matplotlib inline\n",
    "\n",
    "import warnings\n",
    "warnings.filterwarnings('ignore')\n",
    "\n"
   ]
  },
  {
   "cell_type": "code",
   "execution_count": 2,
   "metadata": {
    "scrolled": true
   },
   "outputs": [],
   "source": [
    "candidateSummaryAction = pd.read_csv('Resources/CandidateSummaryAction.csv')"
   ]
  },
  {
   "cell_type": "code",
   "execution_count": null,
   "metadata": {},
   "outputs": [],
   "source": [
    "#candidateSummaryAction = AnnieAmandaDataClean(candidateSummaryAction)\n",
    "#candidateSummaryAction.head()"
   ]
  },
  {
   "cell_type": "markdown",
   "metadata": {},
   "source": [
    "# Clean the data set"
   ]
  },
  {
   "cell_type": "code",
   "execution_count": 3,
   "metadata": {},
   "outputs": [],
   "source": [
    "# Clean the currency amount and change it to numeric\n",
    "\n",
    "candidateSummaryAction['ind_ite_con'] = pd.to_numeric(candidateSummaryAction['ind_ite_con'].str.replace(\"$\",\"\").str.replace(\",\",\"\").str.replace(\"(\",\"-\").str.replace(\")\",\"\"))\n",
    "candidateSummaryAction['ind_uni_con'] = pd.to_numeric(candidateSummaryAction['ind_uni_con'].str.replace(\"$\",\"\").str.replace(\",\",\"\").str.replace(\"(\",\"-\").str.replace(\")\",\"\"))\n",
    "candidateSummaryAction['ind_con'] = pd.to_numeric(candidateSummaryAction['ind_con'].str.replace(\"$\",\"\").str.replace(\",\",\"\").str.replace(\"(\",\"-\").str.replace(\")\",\"\"))\n",
    "candidateSummaryAction['par_com_con'] = pd.to_numeric(candidateSummaryAction['par_com_con'].str.replace(\"$\",\"\").str.replace(\",\",\"\").str.replace(\"(\",\"-\").str.replace(\")\",\"\"))\n",
    "candidateSummaryAction['oth_com_con'] = pd.to_numeric(candidateSummaryAction['oth_com_con'].str.replace(\"$\",\"\").str.replace(\",\",\"\").str.replace(\"(\",\"-\").str.replace(\")\",\"\"))\n",
    "candidateSummaryAction['can_con'] = pd.to_numeric(candidateSummaryAction['can_con'].str.replace(\"$\",\"\").str.replace(\",\",\"\").str.replace(\"(\",\"-\").str.replace(\")\",\"\"))\n",
    "candidateSummaryAction['tot_con'] = pd.to_numeric(candidateSummaryAction['tot_con'].str.replace(\"$\",\"\").str.replace(\",\",\"\").str.replace(\"(\",\"-\").str.replace(\")\",\"\"))\n",
    "candidateSummaryAction['tra_fro_oth_aut_com'] = pd.to_numeric(candidateSummaryAction['tra_fro_oth_aut_com'].str.replace(\"$\",\"\").str.replace(\",\",\"\").str.replace(\"(\",\"-\").str.replace(\")\",\"\"))\n",
    "candidateSummaryAction['can_loa'] = pd.to_numeric(candidateSummaryAction['can_loa'].str.replace(\"$\",\"\").str.replace(\",\",\"\").str.replace(\"(\",\"-\").str.replace(\")\",\"\"))\n",
    "candidateSummaryAction['oth_loa'] = pd.to_numeric(candidateSummaryAction['oth_loa'].str.replace(\"$\",\"\").str.replace(\",\",\"\").str.replace(\"(\",\"-\").str.replace(\")\",\"\"))\n",
    "candidateSummaryAction['tot_loa'] = pd.to_numeric(candidateSummaryAction['tot_loa'].str.replace(\"$\",\"\").str.replace(\",\",\"\").str.replace(\"(\",\"-\").str.replace(\")\",\"\"))\n",
    "candidateSummaryAction['off_to_ope_exp'] = pd.to_numeric(candidateSummaryAction['off_to_ope_exp'].str.replace(\"$\",\"\").str.replace(\",\",\"\").str.replace(\"(\",\"-\").str.replace(\")\",\"\"))\n",
    "candidateSummaryAction['off_to_fun'] = pd.to_numeric(candidateSummaryAction['off_to_fun'].str.replace(\"$\",\"\").str.replace(\",\",\"\").str.replace(\"(\",\"-\").str.replace(\")\",\"\"))\n",
    "candidateSummaryAction['off_to_leg_acc'] = pd.to_numeric(candidateSummaryAction['off_to_leg_acc'].str.replace(\"$\",\"\").str.replace(\",\",\"\").str.replace(\"(\",\"-\").str.replace(\")\",\"\"))\n",
    "candidateSummaryAction['oth_rec'] = pd.to_numeric(candidateSummaryAction['oth_rec'].str.replace(\"$\",\"\").str.replace(\",\",\"\").str.replace(\"(\",\"-\").str.replace(\")\",\"\"))\n",
    "candidateSummaryAction['tot_rec'] = pd.to_numeric(candidateSummaryAction['tot_rec'].str.replace(\"$\",\"\").str.replace(\",\",\"\").str.replace(\"(\",\"-\").str.replace(\")\",\"\"))\n",
    "candidateSummaryAction['ope_exp'] = pd.to_numeric(candidateSummaryAction['ope_exp'].str.replace(\"$\",\"\").str.replace(\",\",\"\").str.replace(\"(\",\"-\").str.replace(\")\",\"\"))\n",
    "candidateSummaryAction['exe_leg_acc_dis'] = pd.to_numeric(candidateSummaryAction['exe_leg_acc_dis'].str.replace(\"$\",\"\").str.replace(\",\",\"\").str.replace(\"(\",\"-\").str.replace(\")\",\"\"))\n",
    "candidateSummaryAction['tra_to_oth_aut_com'] = pd.to_numeric(candidateSummaryAction['tra_to_oth_aut_com'].str.replace(\"$\",\"\").str.replace(\",\",\"\").str.replace(\"(\",\"-\").str.replace(\")\",\"\"))\n",
    "candidateSummaryAction['can_loa_rep'] = pd.to_numeric(candidateSummaryAction['can_loa_rep'].str.replace(\"$\",\"\").str.replace(\",\",\"\").str.replace(\"(\",\"-\").str.replace(\")\",\"\"))\n",
    "candidateSummaryAction['tot_loa_rep'] = pd.to_numeric(candidateSummaryAction['tot_loa_rep'].str.replace(\"$\",\"\").str.replace(\",\",\"\").str.replace(\"(\",\"-\").str.replace(\")\",\"\"))\n",
    "candidateSummaryAction['ind_ref'] = pd.to_numeric(candidateSummaryAction['ind_ref'].str.replace(\"$\",\"\").str.replace(\",\",\"\").str.replace(\"(\",\"-\").str.replace(\")\",\"\"))\n",
    "candidateSummaryAction['par_com_ref'] = pd.to_numeric(candidateSummaryAction['par_com_ref'].str.replace(\"$\",\"\").str.replace(\",\",\"\").str.replace(\"(\",\"-\").str.replace(\")\",\"\"))\n",
    "candidateSummaryAction['oth_com_ref'] = pd.to_numeric(candidateSummaryAction['oth_com_ref'].str.replace(\"$\",\"\").str.replace(\",\",\"\").str.replace(\"(\",\"-\").str.replace(\")\",\"\"))\n",
    "candidateSummaryAction['tot_con_ref'] = pd.to_numeric(candidateSummaryAction['tot_con_ref'].str.replace(\"$\",\"\").str.replace(\",\",\"\").str.replace(\"(\",\"-\").str.replace(\")\",\"\"))\n",
    "candidateSummaryAction['oth_dis'] = pd.to_numeric(candidateSummaryAction['oth_dis'].str.replace(\"$\",\"\").str.replace(\",\",\"\").str.replace(\"(\",\"-\").str.replace(\")\",\"\"))\n",
    "candidateSummaryAction['tot_dis'] = pd.to_numeric(candidateSummaryAction['tot_dis'].str.replace(\"$\",\"\").str.replace(\",\",\"\").str.replace(\"(\",\"-\").str.replace(\")\",\"\"))\n",
    "candidateSummaryAction['cas_on_han_beg_of_per'] = pd.to_numeric(candidateSummaryAction['cas_on_han_beg_of_per'].str.replace(\"$\",\"\").str.replace(\",\",\"\").str.replace(\"(\",\"-\").str.replace(\")\",\"\"))\n",
    "candidateSummaryAction['cas_on_han_clo_of_per'] = pd.to_numeric(candidateSummaryAction['cas_on_han_clo_of_per'].str.replace(\"$\",\"\").str.replace(\",\",\"\").str.replace(\"(\",\"-\").str.replace(\")\",\"\"))\n",
    "candidateSummaryAction['net_con'] = pd.to_numeric(candidateSummaryAction['net_con'].str.replace(\"$\",\"\").str.replace(\",\",\"\").str.replace(\"(\",\"-\").str.replace(\")\",\"\"))\n",
    "candidateSummaryAction['net_ope_exp'] = pd.to_numeric(candidateSummaryAction['net_ope_exp'].str.replace(\"$\",\"\").str.replace(\",\",\"\").str.replace(\"(\",\"-\").str.replace(\")\",\"\"))\n",
    "candidateSummaryAction['deb_owe_by_com'] = pd.to_numeric(candidateSummaryAction['deb_owe_by_com'].str.replace(\"$\",\"\").str.replace(\",\",\"\").str.replace(\"(\",\"-\").str.replace(\")\",\"\"))\n",
    "candidateSummaryAction['deb_owe_to_com'] = pd.to_numeric(candidateSummaryAction['deb_owe_to_com'].str.replace(\"$\",\"\").str.replace(\",\",\"\").str.replace(\"(\",\"-\").str.replace(\")\",\"\"))\n"
   ]
  },
  {
   "cell_type": "code",
   "execution_count": 4,
   "metadata": {},
   "outputs": [
    {
     "data": {
      "text/html": [
       "<div>\n",
       "<style scoped>\n",
       "    .dataframe tbody tr th:only-of-type {\n",
       "        vertical-align: middle;\n",
       "    }\n",
       "\n",
       "    .dataframe tbody tr th {\n",
       "        vertical-align: top;\n",
       "    }\n",
       "\n",
       "    .dataframe thead th {\n",
       "        text-align: right;\n",
       "    }\n",
       "</style>\n",
       "<table border=\"1\" class=\"dataframe\">\n",
       "  <thead>\n",
       "    <tr style=\"text-align: right;\">\n",
       "      <th></th>\n",
       "      <th>can_id</th>\n",
       "      <th>can_nam</th>\n",
       "      <th>can_off</th>\n",
       "      <th>can_off_sta</th>\n",
       "      <th>can_off_dis</th>\n",
       "      <th>can_par_aff</th>\n",
       "      <th>can_inc_cha_ope_sea</th>\n",
       "      <th>can_str1</th>\n",
       "      <th>can_str2</th>\n",
       "      <th>can_cit</th>\n",
       "      <th>...</th>\n",
       "      <th>cas_on_han_beg_of_per</th>\n",
       "      <th>cas_on_han_clo_of_per</th>\n",
       "      <th>net_con</th>\n",
       "      <th>net_ope_exp</th>\n",
       "      <th>deb_owe_by_com</th>\n",
       "      <th>deb_owe_to_com</th>\n",
       "      <th>cov_sta_dat</th>\n",
       "      <th>cov_end_dat</th>\n",
       "      <th>winner</th>\n",
       "      <th>votes</th>\n",
       "    </tr>\n",
       "  </thead>\n",
       "  <tbody>\n",
       "    <tr>\n",
       "      <th>0</th>\n",
       "      <td>H2GA12121</td>\n",
       "      <td>ALLEN, RICHARD W</td>\n",
       "      <td>H</td>\n",
       "      <td>GA</td>\n",
       "      <td>12.0</td>\n",
       "      <td>REP</td>\n",
       "      <td>INCUMBENT</td>\n",
       "      <td>2237 PICKENS RD</td>\n",
       "      <td>NaN</td>\n",
       "      <td>AUGUSTA</td>\n",
       "      <td>...</td>\n",
       "      <td>60109.57</td>\n",
       "      <td>175613.35</td>\n",
       "      <td>1074949.50</td>\n",
       "      <td>907156.21</td>\n",
       "      <td>1125000.0</td>\n",
       "      <td>0.0</td>\n",
       "      <td>1/1/2015</td>\n",
       "      <td>10/19/2016</td>\n",
       "      <td>Y</td>\n",
       "      <td>158708.0</td>\n",
       "    </tr>\n",
       "    <tr>\n",
       "      <th>1</th>\n",
       "      <td>H6PA02171</td>\n",
       "      <td>EVANS, DWIGHT</td>\n",
       "      <td>H</td>\n",
       "      <td>PA</td>\n",
       "      <td>2.0</td>\n",
       "      <td>DEM</td>\n",
       "      <td>CHALLENGER</td>\n",
       "      <td>PO BOX 6578</td>\n",
       "      <td>NaN</td>\n",
       "      <td>PHILADELPHIA</td>\n",
       "      <td>...</td>\n",
       "      <td>0.00</td>\n",
       "      <td>105687.23</td>\n",
       "      <td>1406719.06</td>\n",
       "      <td>1298831.83</td>\n",
       "      <td>0.0</td>\n",
       "      <td>0.0</td>\n",
       "      <td>11/2/2015</td>\n",
       "      <td>10/19/2016</td>\n",
       "      <td>Y</td>\n",
       "      <td>310770.0</td>\n",
       "    </tr>\n",
       "  </tbody>\n",
       "</table>\n",
       "<p>2 rows × 51 columns</p>\n",
       "</div>"
      ],
      "text/plain": [
       "      can_id           can_nam can_off can_off_sta  can_off_dis can_par_aff  \\\n",
       "0  H2GA12121  ALLEN, RICHARD W       H          GA         12.0         REP   \n",
       "1  H6PA02171     EVANS, DWIGHT       H          PA          2.0         DEM   \n",
       "\n",
       "  can_inc_cha_ope_sea         can_str1 can_str2       can_cit  ...  \\\n",
       "0           INCUMBENT  2237 PICKENS RD      NaN       AUGUSTA  ...   \n",
       "1          CHALLENGER      PO BOX 6578      NaN  PHILADELPHIA  ...   \n",
       "\n",
       "  cas_on_han_beg_of_per  cas_on_han_clo_of_per     net_con  net_ope_exp  \\\n",
       "0              60109.57              175613.35  1074949.50    907156.21   \n",
       "1                  0.00              105687.23  1406719.06   1298831.83   \n",
       "\n",
       "   deb_owe_by_com  deb_owe_to_com  cov_sta_dat  cov_end_dat  winner     votes  \n",
       "0       1125000.0             0.0     1/1/2015   10/19/2016       Y  158708.0  \n",
       "1             0.0             0.0    11/2/2015   10/19/2016       Y  310770.0  \n",
       "\n",
       "[2 rows x 51 columns]"
      ]
     },
     "execution_count": 4,
     "metadata": {},
     "output_type": "execute_result"
    }
   ],
   "source": [
    "# Fill the blank numeric values with zero\n",
    "\n",
    "candidateSummaryAction['ind_ite_con'].fillna(0, inplace = True)\n",
    "candidateSummaryAction['ind_uni_con'].fillna(0, inplace = True)\n",
    "candidateSummaryAction['ind_con'].fillna(0, inplace = True)\n",
    "candidateSummaryAction['par_com_con'].fillna(0, inplace = True)\n",
    "candidateSummaryAction['oth_com_con'].fillna(0, inplace = True)\n",
    "candidateSummaryAction['can_con'].fillna(0, inplace = True)\n",
    "candidateSummaryAction['tot_con'].fillna(0, inplace = True)\n",
    "candidateSummaryAction['tra_fro_oth_aut_com'].fillna(0, inplace = True)\n",
    "candidateSummaryAction['can_loa'].fillna(0, inplace = True)\n",
    "candidateSummaryAction['oth_loa'].fillna(0, inplace = True)\n",
    "candidateSummaryAction['tot_loa'].fillna(0, inplace = True)\n",
    "candidateSummaryAction['off_to_ope_exp'].fillna(0, inplace = True)\n",
    "candidateSummaryAction['off_to_fun'].fillna(0, inplace = True)\n",
    "candidateSummaryAction['off_to_leg_acc'].fillna(0, inplace = True)\n",
    "candidateSummaryAction['oth_rec'].fillna(0, inplace = True)\n",
    "candidateSummaryAction['tot_rec'].fillna(0, inplace = True)\n",
    "candidateSummaryAction['ope_exp'].fillna(0, inplace = True)\n",
    "candidateSummaryAction['exe_leg_acc_dis'].fillna(0, inplace = True)\n",
    "candidateSummaryAction['tra_to_oth_aut_com'].fillna(0, inplace = True)\n",
    "candidateSummaryAction['can_loa_rep'].fillna(0, inplace = True)\n",
    "candidateSummaryAction['tot_loa_rep'].fillna(0, inplace = True)\n",
    "candidateSummaryAction['ind_ref'].fillna(0, inplace = True)\n",
    "candidateSummaryAction['par_com_ref'].fillna(0, inplace = True)\n",
    "candidateSummaryAction['oth_com_ref'].fillna(0, inplace = True)\n",
    "candidateSummaryAction['tot_con_ref'].fillna(0, inplace = True)\n",
    "candidateSummaryAction['oth_dis'].fillna(0, inplace = True)\n",
    "candidateSummaryAction['tot_dis'].fillna(0, inplace = True)\n",
    "candidateSummaryAction['cas_on_han_beg_of_per'].fillna(0, inplace = True)\n",
    "candidateSummaryAction['cas_on_han_clo_of_per'].fillna(0, inplace = True)\n",
    "candidateSummaryAction['net_con'].fillna(0, inplace = True)\n",
    "candidateSummaryAction['ind_uni_con'].fillna(0, inplace = True)\n",
    "candidateSummaryAction['net_ope_exp'].fillna(0, inplace = True)\n",
    "candidateSummaryAction['deb_owe_by_com'].fillna(0, inplace = True)\n",
    "candidateSummaryAction['deb_owe_to_com'].fillna(0, inplace = True)"
   ]
  },
  {
   "cell_type": "code",
   "execution_count": 6,
   "metadata": {},
   "outputs": [
    {
     "data": {
      "text/html": [
       "<div>\n",
       "<style scoped>\n",
       "    .dataframe tbody tr th:only-of-type {\n",
       "        vertical-align: middle;\n",
       "    }\n",
       "\n",
       "    .dataframe tbody tr th {\n",
       "        vertical-align: top;\n",
       "    }\n",
       "\n",
       "    .dataframe thead th {\n",
       "        text-align: right;\n",
       "    }\n",
       "</style>\n",
       "<table border=\"1\" class=\"dataframe\">\n",
       "  <thead>\n",
       "    <tr style=\"text-align: right;\">\n",
       "      <th></th>\n",
       "      <th>Candidate Id</th>\n",
       "      <th>Candidate Name</th>\n",
       "      <th>Candidate Office</th>\n",
       "      <th>Candidate Office State</th>\n",
       "      <th>Candidate Office District</th>\n",
       "      <th>Candidate Party Affiliation</th>\n",
       "      <th>Candidate Incumbent Challenger Open Seat</th>\n",
       "      <th>Candidate Street 1</th>\n",
       "      <th>Candidate Street 2</th>\n",
       "      <th>Candidate City</th>\n",
       "      <th>...</th>\n",
       "      <th>Cash on Hand Close of Period</th>\n",
       "      <th>Net Contribution</th>\n",
       "      <th>Net Operating Expenditure</th>\n",
       "      <th>Debt Owed by Committee</th>\n",
       "      <th>Debt Owed to Committee</th>\n",
       "      <th>Coverage Start Date</th>\n",
       "      <th>Coverage End Date</th>\n",
       "      <th>Winner</th>\n",
       "      <th>Votes</th>\n",
       "      <th>Winner_binary</th>\n",
       "    </tr>\n",
       "  </thead>\n",
       "  <tbody>\n",
       "    <tr>\n",
       "      <th>0</th>\n",
       "      <td>H2GA12121</td>\n",
       "      <td>ALLEN, RICHARD W</td>\n",
       "      <td>H</td>\n",
       "      <td>GA</td>\n",
       "      <td>12.0</td>\n",
       "      <td>REP</td>\n",
       "      <td>INCUMBENT</td>\n",
       "      <td>2237 PICKENS RD</td>\n",
       "      <td>NaN</td>\n",
       "      <td>AUGUSTA</td>\n",
       "      <td>...</td>\n",
       "      <td>175613.35</td>\n",
       "      <td>1074949.50</td>\n",
       "      <td>907156.21</td>\n",
       "      <td>1125000.0</td>\n",
       "      <td>0.0</td>\n",
       "      <td>1/1/2015</td>\n",
       "      <td>10/19/2016</td>\n",
       "      <td>Y</td>\n",
       "      <td>158708.0</td>\n",
       "      <td>1</td>\n",
       "    </tr>\n",
       "    <tr>\n",
       "      <th>1</th>\n",
       "      <td>H6PA02171</td>\n",
       "      <td>EVANS, DWIGHT</td>\n",
       "      <td>H</td>\n",
       "      <td>PA</td>\n",
       "      <td>2.0</td>\n",
       "      <td>DEM</td>\n",
       "      <td>CHALLENGER</td>\n",
       "      <td>PO BOX 6578</td>\n",
       "      <td>NaN</td>\n",
       "      <td>PHILADELPHIA</td>\n",
       "      <td>...</td>\n",
       "      <td>105687.23</td>\n",
       "      <td>1406719.06</td>\n",
       "      <td>1298831.83</td>\n",
       "      <td>0.0</td>\n",
       "      <td>0.0</td>\n",
       "      <td>11/2/2015</td>\n",
       "      <td>10/19/2016</td>\n",
       "      <td>Y</td>\n",
       "      <td>310770.0</td>\n",
       "      <td>1</td>\n",
       "    </tr>\n",
       "  </tbody>\n",
       "</table>\n",
       "<p>2 rows × 52 columns</p>\n",
       "</div>"
      ],
      "text/plain": [
       "  Candidate Id    Candidate Name Candidate Office Candidate Office State  \\\n",
       "0    H2GA12121  ALLEN, RICHARD W                H                     GA   \n",
       "1    H6PA02171     EVANS, DWIGHT                H                     PA   \n",
       "\n",
       "   Candidate Office District Candidate Party Affiliation  \\\n",
       "0                       12.0                         REP   \n",
       "1                        2.0                         DEM   \n",
       "\n",
       "  Candidate Incumbent Challenger Open Seat Candidate Street 1  \\\n",
       "0                                INCUMBENT    2237 PICKENS RD   \n",
       "1                               CHALLENGER        PO BOX 6578   \n",
       "\n",
       "  Candidate Street 2 Candidate City  ... Cash on Hand Close of Period  \\\n",
       "0                NaN        AUGUSTA  ...                    175613.35   \n",
       "1                NaN   PHILADELPHIA  ...                    105687.23   \n",
       "\n",
       "   Net Contribution  Net Operating Expenditure  Debt Owed by Committee  \\\n",
       "0        1074949.50                  907156.21               1125000.0   \n",
       "1        1406719.06                 1298831.83                     0.0   \n",
       "\n",
       "   Debt Owed to Committee  Coverage Start Date  Coverage End Date  Winner  \\\n",
       "0                     0.0             1/1/2015         10/19/2016       Y   \n",
       "1                     0.0            11/2/2015         10/19/2016       Y   \n",
       "\n",
       "      Votes  Winner_binary  \n",
       "0  158708.0              1  \n",
       "1  310770.0              1  \n",
       "\n",
       "[2 rows x 52 columns]"
      ]
     },
     "execution_count": 6,
     "metadata": {},
     "output_type": "execute_result"
    }
   ],
   "source": [
    "# Rename the data columns\n",
    "\n",
    "candidateSummaryAction.rename(columns = {'can_id':'Candidate Id',\n",
    "                                         'can_nam':'Candidate Name',\n",
    "                                         'can_off':'Candidate Office',\n",
    "                                         'can_off_sta':'Candidate Office State',\n",
    "                                         'can_off_dis':'Candidate Office District',\n",
    "                                         'can_par_aff':'Candidate Party Affiliation',\n",
    "                                         'can_inc_cha_ope_sea':'Candidate Incumbent Challenger Open Seat',\n",
    "                                         'can_str1':'Candidate Street 1',\n",
    "                                         'can_str2':'Candidate Street 2',\n",
    "                                         'can_cit':'Candidate City',\n",
    "                                         'can_sta':'Candidate State',\n",
    "                                         'can_zip':'Candidate Zip',\n",
    "                                         'ind_ite_con':'Individual Itemized Contribution',\n",
    "                                         'ind_uni_con':'Individual Unitemized Contribution',\n",
    "                                         'ind_con':'Individual Contribution',\n",
    "                                         'par_com_con':'Party Committee Contribution',\n",
    "                                         'oth_com_con':'Other Committee Contribution',\n",
    "                                         'can_con':'Candidate Contribution',\n",
    "                                         'tot_con':'Total Contribution',\n",
    "                                         'tra_fro_oth_aut_com':'Transfer from other Authorized Committee',\n",
    "                                         'can_loa':'Candidate Loan',\n",
    "                                         'oth_loa':'Other Loan',\n",
    "                                         'tot_loa':'Total Loan',\n",
    "                                         'off_to_ope_exp':'Offsets to Operating Expenditure',\n",
    "                                         'off_to_fun':'Offsets to Fundraising',\n",
    "                                         'off_to_leg_acc':'Offsets to Legal Accounting',\n",
    "                                         'oth_rec':'Other Receipts',\n",
    "                                         'tot_rec':'Total Receipts',\n",
    "                                         'ope_exp':'Operating Expenditure',\n",
    "                                         'exe_leg_acc_dis':'Exempt Legal Accounting Disbursement',\n",
    "                                         'fun_dis':'Fundraising Disbursement',\n",
    "                                         'tra_to_oth_aut_com':'Transfer to Other Authorized Committee',\n",
    "                                         'can_loa_rep':'Candidate Loan Repayment',\n",
    "                                         'oth_loa_rep':'Other Loan Repayment',\n",
    "                                         'tot_loa_rep':'Total Loan Repayment',\n",
    "                                         'ind_ref':'Individual Refund',\n",
    "                                         'par_com_ref':'Party Committee Refund',\n",
    "                                         'oth_com_ref':'Other Committee Refund',\n",
    "                                         'tot_con_ref':'Total Contribution Refund',\n",
    "                                         'oth_dis':'Other Disbursement',\n",
    "                                         'tot_dis':'Total Disbursement',\n",
    "                                         'cas_on_han_beg_of_per':'Cash on Hand Beginning of Period',\n",
    "                                         'cas_on_han_clo_of_per':'Cash on Hand Close of Period',\n",
    "                                         'net_con':'Net Contribution',\n",
    "                                         'net_ope_exp':'Net Operating Expenditure',\n",
    "                                         'deb_owe_by_com':'Debt Owed by Committee',\n",
    "                                         'deb_owe_to_com':'Debt Owed to Committee',\n",
    "                                         'cov_sta_dat':'Coverage Start Date',\n",
    "                                         'cov_end_dat':'Coverage End Date',\n",
    "                                         'winner':'Winner',\n",
    "                                         'votes':'Votes'\n",
    "    \n",
    "},inplace = True)\n",
    "\n",
    "# Create a new field Winner_binary which is either 1 or 0\n",
    "candidateSummaryAction['Winner_binary'] = np.where(candidateSummaryAction['Winner']=='Y',1,0)\n",
    "candidateSummaryAction.head(2)"
   ]
  },
  {
   "cell_type": "code",
   "execution_count": 7,
   "metadata": {},
   "outputs": [
    {
     "data": {
      "text/html": [
       "<div>\n",
       "<style scoped>\n",
       "    .dataframe tbody tr th:only-of-type {\n",
       "        vertical-align: middle;\n",
       "    }\n",
       "\n",
       "    .dataframe tbody tr th {\n",
       "        vertical-align: top;\n",
       "    }\n",
       "\n",
       "    .dataframe thead th {\n",
       "        text-align: right;\n",
       "    }\n",
       "</style>\n",
       "<table border=\"1\" class=\"dataframe\">\n",
       "  <thead>\n",
       "    <tr style=\"text-align: right;\">\n",
       "      <th></th>\n",
       "      <th>Candidate Id</th>\n",
       "      <th>Candidate Name</th>\n",
       "      <th>Candidate Office</th>\n",
       "      <th>Candidate Office State</th>\n",
       "      <th>Candidate Office District</th>\n",
       "      <th>Candidate Party Affiliation</th>\n",
       "      <th>Candidate Incumbent Challenger Open Seat</th>\n",
       "      <th>Net Contribution</th>\n",
       "      <th>Net Operating Expenditure</th>\n",
       "      <th>Winner_binary</th>\n",
       "      <th>Cash on Hand Beginning of Period</th>\n",
       "      <th>Cash on Hand Close of Period</th>\n",
       "      <th>Individual Itemized Contribution</th>\n",
       "      <th>Individual Unitemized Contribution</th>\n",
       "      <th>Individual Contribution</th>\n",
       "    </tr>\n",
       "  </thead>\n",
       "  <tbody>\n",
       "    <tr>\n",
       "      <th>0</th>\n",
       "      <td>H2GA12121</td>\n",
       "      <td>ALLEN, RICHARD W</td>\n",
       "      <td>H</td>\n",
       "      <td>GA</td>\n",
       "      <td>12.0</td>\n",
       "      <td>REP</td>\n",
       "      <td>INCUMBENT</td>\n",
       "      <td>1074949.50</td>\n",
       "      <td>907156.21</td>\n",
       "      <td>1</td>\n",
       "      <td>60109.57</td>\n",
       "      <td>175613.35</td>\n",
       "      <td>554305.00</td>\n",
       "      <td>46969.50</td>\n",
       "      <td>601274.50</td>\n",
       "    </tr>\n",
       "    <tr>\n",
       "      <th>1</th>\n",
       "      <td>H6PA02171</td>\n",
       "      <td>EVANS, DWIGHT</td>\n",
       "      <td>H</td>\n",
       "      <td>PA</td>\n",
       "      <td>2.0</td>\n",
       "      <td>DEM</td>\n",
       "      <td>CHALLENGER</td>\n",
       "      <td>1406719.06</td>\n",
       "      <td>1298831.83</td>\n",
       "      <td>1</td>\n",
       "      <td>0.00</td>\n",
       "      <td>105687.23</td>\n",
       "      <td>1042280.38</td>\n",
       "      <td>72430.64</td>\n",
       "      <td>1114711.02</td>\n",
       "    </tr>\n",
       "  </tbody>\n",
       "</table>\n",
       "</div>"
      ],
      "text/plain": [
       "  Candidate Id    Candidate Name Candidate Office Candidate Office State  \\\n",
       "0    H2GA12121  ALLEN, RICHARD W                H                     GA   \n",
       "1    H6PA02171     EVANS, DWIGHT                H                     PA   \n",
       "\n",
       "   Candidate Office District Candidate Party Affiliation  \\\n",
       "0                       12.0                         REP   \n",
       "1                        2.0                         DEM   \n",
       "\n",
       "  Candidate Incumbent Challenger Open Seat  Net Contribution  \\\n",
       "0                                INCUMBENT        1074949.50   \n",
       "1                               CHALLENGER        1406719.06   \n",
       "\n",
       "   Net Operating Expenditure  Winner_binary  Cash on Hand Beginning of Period  \\\n",
       "0                  907156.21              1                          60109.57   \n",
       "1                 1298831.83              1                              0.00   \n",
       "\n",
       "   Cash on Hand Close of Period  Individual Itemized Contribution  \\\n",
       "0                     175613.35                         554305.00   \n",
       "1                     105687.23                        1042280.38   \n",
       "\n",
       "   Individual Unitemized Contribution  Individual Contribution  \n",
       "0                            46969.50                601274.50  \n",
       "1                            72430.64               1114711.02  "
      ]
     },
     "execution_count": 7,
     "metadata": {},
     "output_type": "execute_result"
    }
   ],
   "source": [
    "# Subset the dataset to select interested columns\n",
    "candidateSummary = candidateSummaryAction[['Candidate Id','Candidate Name', 'Candidate Office',\n",
    "       'Candidate Office State', 'Candidate Office District','Candidate Party Affiliation',\n",
    "       'Candidate Incumbent Challenger Open Seat','Net Contribution', 'Net Operating Expenditure',\n",
    "       'Winner_binary','Cash on Hand Beginning of Period','Cash on Hand Close of Period','Individual Itemized Contribution',\n",
    "                                          'Individual Unitemized Contribution','Individual Contribution']]\n",
    "candidateSummary.head(2)"
   ]
  },
  {
   "cell_type": "markdown",
   "metadata": {},
   "source": [
    "# Separate the study for three different types of Election - House Representatives, Senate and President"
   ]
  },
  {
   "cell_type": "code",
   "execution_count": 8,
   "metadata": {},
   "outputs": [],
   "source": [
    "# Split the dataset into House, Senate and Presidential elections\n",
    "\n",
    "candidateHouse = candidateSummary[candidateSummary['Candidate Office']=='H']\n",
    "candidateSenate = candidateSummary[candidateSummary['Candidate Office']=='S']\n",
    "candidatePresident = candidateSummary[candidateSummary['Candidate Office']=='P']"
   ]
  },
  {
   "cell_type": "markdown",
   "metadata": {},
   "source": [
    "# Analysis on the Election for House Representatives"
   ]
  },
  {
   "cell_type": "code",
   "execution_count": 13,
   "metadata": {},
   "outputs": [],
   "source": [
    "# Create a field to uniquely identify an Electorate\n",
    "candidateHouse['Electorate'] = candidateHouse['Candidate Office State'] + '-' + candidateHouse['Candidate Office District'].astype(str)\n",
    "\n",
    "# Take only the cases where 'Net Operating Expenditure' is greater than 0\n",
    "candidateHouse = candidateHouse[candidateSummary['Net Operating Expenditure'] > 0]\n",
    "\n",
    "\n",
    "# Get the ranks of candidates by netExpenditure, UnItemizedContribution and ItemizedContribution\n",
    "candidateHouse['rank_netExpenditure'] = candidateHouse.groupby(['Candidate Office State','Candidate Office District'])['Net Operating Expenditure'].rank(ascending = False)\n",
    "candidateHouse['rank_UnItemizedContribution'] = candidateHouse.groupby(['Candidate Office State','Candidate Office District'])['Individual Unitemized Contribution'].rank(ascending = False)\n",
    "candidateHouse['rank_ItemizedContribution'] = candidateHouse.groupby(['Candidate Office State','Candidate Office District'])['Individual Itemized Contribution'].rank(ascending = False)\n",
    "\n",
    "# Take only the cases where rank could be created\n",
    "candidateHouse = candidateHouse.loc[candidateHouse['rank_netExpenditure'].isnull()==False,:]\n",
    "candidateHouse.sort_values(['Candidate Office State','Candidate Office District','rank_netExpenditure'],inplace = True)\n"
   ]
  },
  {
   "cell_type": "markdown",
   "metadata": {},
   "source": [
    "# Plot the graphs to see which features are important"
   ]
  },
  {
   "cell_type": "code",
   "execution_count": 18,
   "metadata": {},
   "outputs": [],
   "source": [
    "candidateHouse.to_csv('Resources/candidateHouse.csv')\n"
   ]
  },
  {
   "cell_type": "code",
   "execution_count": 15,
   "metadata": {},
   "outputs": [
    {
     "data": {
      "image/png": "[encoded data removed]",
      "text/plain": [
       "<Figure size 432x288 with 1 Axes>"
      ]
     },
     "metadata": {
      "needs_background": "light"
     },
     "output_type": "display_data"
    }
   ],
   "source": [
    "plt.scatter(candidateHouse['Cash on Hand Beginning of Period'],candidateHouse['Winner_binary'])\n",
    "plt.show()"
   ]
  },
  {
   "cell_type": "code",
   "execution_count": null,
   "metadata": {},
   "outputs": [],
   "source": [
    "plt.scatter(candidateHouse['Cash on Hand Close of Period'],candidateHouse['Winner_binary'])\n",
    "\n",
    "plt.show()"
   ]
  },
  {
   "cell_type": "code",
   "execution_count": null,
   "metadata": {},
   "outputs": [],
   "source": [
    "plt.scatter(candidateHouse['Individual Itemized Contribution'],candidateHouse['Winner_binary'])\n",
    "\n",
    "plt.show()"
   ]
  },
  {
   "cell_type": "code",
   "execution_count": null,
   "metadata": {},
   "outputs": [],
   "source": [
    "plt.scatter(candidateHouse['Individual Unitemized Contribution'],candidateHouse['Winner_binary'])\n",
    "\n",
    "plt.show()"
   ]
  },
  {
   "cell_type": "code",
   "execution_count": null,
   "metadata": {},
   "outputs": [],
   "source": [
    "plt.scatter(candidateHouse['Net Contribution'],candidateHouse['Winner_binary'])\n",
    "\n",
    "plt.show()"
   ]
  },
  {
   "cell_type": "code",
   "execution_count": null,
   "metadata": {},
   "outputs": [],
   "source": [
    "plt.scatter(candidateHouse['Net Operating Expenditure'],candidateHouse['Winner_binary'])\n",
    "plt.show()"
   ]
  },
  {
   "cell_type": "code",
   "execution_count": null,
   "metadata": {},
   "outputs": [],
   "source": [
    "plt.scatter(candidateHouse['rank_netExpenditure'],candidateHouse['Winner_binary'])\n",
    "plt.show()"
   ]
  },
  {
   "cell_type": "code",
   "execution_count": null,
   "metadata": {},
   "outputs": [],
   "source": [
    "plt.scatter(candidateHouse['rank_UnItemizedContribution'],candidateHouse['Winner_binary'])\n",
    "plt.show()"
   ]
  },
  {
   "cell_type": "code",
   "execution_count": null,
   "metadata": {},
   "outputs": [],
   "source": [
    "plt.scatter(candidateHouse['rank_ItemizedContribution'],candidateHouse['Winner_binary'],s=candidateHouse['Winner_binary'].sum())\n",
    "plt.show()"
   ]
  },
  {
   "cell_type": "code",
   "execution_count": null,
   "metadata": {},
   "outputs": [],
   "source": []
  },
  {
   "cell_type": "markdown",
   "metadata": {},
   "source": [
    "# Analysis on the Election for Senate"
   ]
  },
  {
   "cell_type": "code",
   "execution_count": null,
   "metadata": {},
   "outputs": [],
   "source": [
    "# Take only the cases where 'Net Operating Expenditure' is greater than 0\n",
    "candidateSenate = candidateSenate[candidateSummary['Net Operating Expenditure']>0]\n",
    "\n",
    "# Create a field to uniquely identify an Electorate\n",
    "candidateSenate['Electorate'] = candidateSenate['Candidate Office State'] + '-' + candidateSenate['Candidate Office District'].astype(str)\n",
    "\n",
    "candidateSenate['rank_netExpenditure'] = candidateSenate.groupby(['Candidate Office State','Candidate Office District'])['Net Operating Expenditure'].rank(ascending = False)\n",
    "candidateSenate['rank_UnItemizedContribution'] = candidateSenate.groupby(['Candidate Office State','Candidate Office District'])['Individual Unitemized Contribution'].rank(ascending = False)\n",
    "candidateSenate['rank_ItemizedContribution'] = candidateSenate.groupby(['Candidate Office State','Candidate Office District'])['Individual Itemized Contribution'].rank(ascending = False)\n",
    "\n",
    "\n",
    "\n",
    "\n",
    "candidateSenate = candidateSenate.loc[candidateSenate['rank_netExpenditure'].isnull()==False,:]\n",
    "\n",
    "candidateSenate.sort_values(['Candidate Office State','Candidate Office District','rank_netExpenditure'],inplace = True)\n"
   ]
  },
  {
   "cell_type": "code",
   "execution_count": null,
   "metadata": {},
   "outputs": [],
   "source": [
    "plt.scatter(candidateHouse['rank'],candidateHouse['Winner_binary'])\n",
    "plt.show()\n",
    "\n",
    "#plt.scatter(candidateSummaryAction['Total Contribution'],candidateSummaryAction['Winner_binary'])\n",
    "#plt.show()"
   ]
  },
  {
   "cell_type": "code",
   "execution_count": null,
   "metadata": {},
   "outputs": [],
   "source": [
    "candidateHouse.groupby(['rank'])['Winner_binary'].sum()"
   ]
  },
  {
   "cell_type": "code",
   "execution_count": null,
   "metadata": {},
   "outputs": [],
   "source": [
    "sns.jointplot(x = 'rank_netExpenditure', y = 'Winner_binary', data = candidateHouse, kind = 'kde')\n",
    "sns.jointplot(x = 'rank_netExpenditure', y = 'Winner_binary', data = candidateHouse)"
   ]
  },
  {
   "cell_type": "code",
   "execution_count": null,
   "metadata": {},
   "outputs": [],
   "source": [
    "dummy_rank = pd.get_dummies(candidateHouse['rank_netExpenditure'],prefix = 'rank')"
   ]
  },
  {
   "cell_type": "code",
   "execution_count": null,
   "metadata": {},
   "outputs": [],
   "source": [
    "dummy_rank.head()"
   ]
  },
  {
   "cell_type": "code",
   "execution_count": null,
   "metadata": {},
   "outputs": [],
   "source": []
  },
  {
   "cell_type": "markdown",
   "metadata": {},
   "source": [
    "# Logistic Regression"
   ]
  },
  {
   "cell_type": "code",
   "execution_count": null,
   "metadata": {},
   "outputs": [],
   "source": [
    "X = candidateHouse[['Candidate Party Affiliation',\n",
    "       'Candidate Incumbent Challenger Open Seat','Net Contribution', 'Net Operating Expenditure',\n",
    "       'Winner_binary','Cash on Hand Beginning of Period','Cash on Hand Close of Period','Individual Itemized Contribution',\n",
    "                                          'Individual Unitemized Contribution','Individual Contribution']]\n",
    "\n",
    "y = candidateHouse['Winner_binary']"
   ]
  },
  {
   "cell_type": "code",
   "execution_count": null,
   "metadata": {},
   "outputs": [],
   "source": []
  }
 ],
 "metadata": {
  "kernelspec": {
   "display_name": "Python 3",
   "language": "python",
   "name": "python3"
  },
  "language_info": {
   "codemirror_mode": {
    "name": "ipython",
    "version": 3
   },
   "file_extension": ".py",
   "mimetype": "text/x-python",
   "name": "python",
   "nbconvert_exporter": "python",
   "pygments_lexer": "ipython3",
   "version": "3.7.3"
  }
 },
 "nbformat": 4,
 "nbformat_minor": 2
}
